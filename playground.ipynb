{
 "cells": [
  {
   "cell_type": "raw",
   "metadata": {
    "deletable": true,
    "editable": true,
    "jupyter": {
     "outputs_hidden": true
    }
   },
   "source": [
    "import pandas as pd"
   ]
  },
  {
   "cell_type": "code",
   "execution_count": 1,
   "metadata": {},
   "outputs": [
    {
     "name": "stdout",
     "output_type": "stream",
     "text": "Test your baseFramework...\nTest your baseModelRegistrar...\nTest your localModelRegistrar...\n"
    }
   ],
   "source": [
    "import os\n",
    "current_dir = os.getcwd()\n",
    "os.chdir('./python')\n",
    "from modelManager import modelManager\n"
   ]
  },
  {
   "cell_type": "code",
   "execution_count": 2,
   "metadata": {},
   "outputs": [],
   "source": [
    "class testModel(object):\n",
    "    def __init__(self):\n",
    "        self.model_metric =  \"{'metric' : 'auc'}\"\n",
    "        self.validation_data = [1, 2, 3, 4, 5, 6]\n",
    "        self.model_object = 'your actual model goes here'\n",
    "\n",
    "    def get_metric_score(self, data):\n",
    "        print('test you get your model score with {}'.format(data))\n",
    "test_model = testModel()"
   ]
  },
  {
   "cell_type": "code",
   "execution_count": 4,
   "metadata": {},
   "outputs": [
    {
     "name": "stderr",
     "output_type": "stream",
     "text": "25-01-2020:22:15:51 [modelManager.py:39] Checking in your model object...\n25-01-2020:22:15:51 [localmodelRegistrar.py:29] Initializing localModelRegistrar class...\n25-01-2020:22:15:51 [baseModelRegistrar.py:28] Initializing baseModelRegistrar class...\n25-01-2020:22:15:51 [baseFramework.py:18] Initializing baseFramework class...\n25-01-2020:22:15:51 [baseModelRegistrar.py:232] Checking model object has get_metric_score method implemented...\n25-01-2020:22:15:51 [baseModelRegistrar.py:238] Checking model object has validation_data attribute...\n25-01-2020:22:15:51 [baseModelRegistrar.py:238] Checking model object has model_metric attribute...\n25-01-2020:22:15:51 [baseModelRegistrar.py:238] Checking model object has model_object attribute...\n25-01-2020:22:15:51 [localmodelRegistrar.py:80] masteModelTable retrieved from local...\n25-01-2020:22:15:51 [baseModelRegistrar.py:181] Updating current masterModeTable information...\n25-01-2020:22:15:51 [baseModelRegistrar.py:174] Found current deployable model_id row count: 1\n25-01-2020:22:15:51 [baseModelRegistrar.py:185] Overwriting previous deployable model status to False...\n25-01-2020:22:15:51 [baseModelRegistrar.py:148] masterModelTable updated, returning deployment entry...\n25-01-2020:22:15:51 [localmodelRegistrar.py:39] Model path identified: ./test_model_dir/test_model_tag/test_model_subtag/test_model_version/...\n25-01-2020:22:15:51 [localmodelRegistrar.py:68] modelMasterTemplate saved to local...\n25-01-2020:22:15:51 [baseModelRegistrar.py:232] Checking model object has get_metric_score method implemented...\n25-01-2020:22:15:51 [baseModelRegistrar.py:238] Checking model object has validation_data attribute...\n25-01-2020:22:15:51 [baseModelRegistrar.py:238] Checking model object has model_metric attribute...\n25-01-2020:22:15:51 [baseModelRegistrar.py:238] Checking model object has model_object attribute...\n25-01-2020:22:15:51 [localmodelRegistrar.py:61] Saving model_object: ./test_model_dir/test_model_tag/test_model_subtag/test_model_version/ to local...\n25-01-2020:22:15:51 [localmodelRegistrar.py:63] Saved...\n25-01-2020:22:15:51 [modelManager.py:63] Model object saved...\nSaving object: ./test_model_dir/test_model_tag/test_model_subtag/test_model_version/model.pickle...\n"
    }
   ],
   "source": [
    "# use save\n",
    "localmoodel = modelManager(model_tag = 'test_model_tag', model_subtag = 'test_model_subtag', model_version = 'test_model_version', model_object = test_model, model_directory='./test_model_dir', config_path = current_dir, use_local = True)\n",
    "localmoodel.checkin_model()"
   ]
  },
  {
   "cell_type": "code",
   "execution_count": 10,
   "metadata": {},
   "outputs": [
    {
     "name": "stderr",
     "output_type": "stream",
     "text": "25-01-2020:22:27:19 [modelManager.py:46] Checking out your model object...\n25-01-2020:22:27:19 [localmodelRegistrar.py:29] Initializing localModelRegistrar class...\n25-01-2020:22:27:19 [baseModelRegistrar.py:28] Initializing baseModelRegistrar class...\n25-01-2020:22:27:19 [baseFramework.py:18] Initializing baseFramework class...\n25-01-2020:22:27:19 [localmodelRegistrar.py:80] masteModelTable retrieved from local...\n25-01-2020:22:27:19 [modelManager.py:74] Model object loaded...\nLoading object ./test_model_dir/test_model_tag/test_model_subtag/test_model_version/model.pickle...\n<class 'str'>\n"
    },
    {
     "data": {
      "text/plain": "'your actual model goes here'"
     },
     "execution_count": 10,
     "metadata": {},
     "output_type": "execute_result"
    }
   ],
   "source": [
    "## use load\n",
    "loadlocalmoodel = modelManager(model_tag = 'test_model_tag', model_subtag = 'test_model_subtag', model_version = 'test_model_version', model_directory='./test_model_dir', config_path = current_dir, use_local = True)\n",
    "loadlocalmoodel.checkout_model()\n",
    "loadlocalmoodel.model_object"
   ]
  },
  {
   "cell_type": "code",
   "execution_count": null,
   "metadata": {},
   "outputs": [],
   "source": []
  },
  {
   "cell_type": "code",
   "execution_count": null,
   "metadata": {
    "collapsed": true,
    "deletable": true,
    "editable": true,
    "jupyter": {
     "outputs_hidden": true
    }
   },
   "outputs": [],
   "source": []
  }
 ],
 "metadata": {
  "anaconda-cloud": {},
  "kernelspec": {
   "display_name": "Python 3",
   "language": "python",
   "name": "python3"
  },
  "language_info": {
   "codemirror_mode": {
    "name": "ipython",
    "version": 3
   },
   "file_extension": ".py",
   "mimetype": "text/x-python",
   "name": "python",
   "nbconvert_exporter": "python",
   "pygments_lexer": "ipython3",
   "version": "3.7.6-final"
  }
 },
 "nbformat": 4,
 "nbformat_minor": 4
}